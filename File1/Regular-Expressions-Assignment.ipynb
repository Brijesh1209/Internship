{
 "cells": [
  {
   "cell_type": "code",
   "execution_count": 2,
   "id": "295f4126",
   "metadata": {},
   "outputs": [],
   "source": [
    "import re"
   ]
  },
  {
   "cell_type": "code",
   "execution_count": 3,
   "id": "13bdbd58",
   "metadata": {},
   "outputs": [],
   "source": [
    "text = 'Python Exercises, PHP exercises.'"
   ]
  },
  {
   "cell_type": "code",
   "execution_count": 4,
   "id": "b2f9452d",
   "metadata": {},
   "outputs": [
    {
     "name": "stdout",
     "output_type": "stream",
     "text": [
      "Python:Exercises::PHP:exercises:\n"
     ]
    }
   ],
   "source": [
    "print(re.sub(\"[ ,.]\",\":\",text))"
   ]
  },
  {
   "cell_type": "code",
   "execution_count": 5,
   "id": "6ed98f2e",
   "metadata": {},
   "outputs": [],
   "source": [
    "import pandas as pd\n",
    "import re\n",
    "\n",
    "data = {'SUMMARY': ['hello, world!', 'XXXXX test', '123four, five:; six...']}\n",
    "df = pd.DataFrame(data)\n",
    "df['SUMMARY'] = df['SUMMARY'].apply(lambda x: re.sub(r'[^\\w\\s]', '', x))"
   ]
  },
  {
   "cell_type": "code",
   "execution_count": 6,
   "id": "b128381d",
   "metadata": {},
   "outputs": [
    {
     "name": "stdout",
     "output_type": "stream",
     "text": [
      "            SUMMARY\n",
      "0       hello world\n",
      "1        XXXXX test\n",
      "2  123four five six\n"
     ]
    }
   ],
   "source": [
    "print (df)"
   ]
  },
  {
   "cell_type": "code",
   "execution_count": 7,
   "id": "0cfc7266",
   "metadata": {},
   "outputs": [],
   "source": [
    "def find_long_words(input_string):\n",
    "    pattern = re.compile(r'\\b\\w{4,}\\b')\n",
    "    long_words = pattern.findall(input_string)\n",
    "    return long_words"
   ]
  },
  {
   "cell_type": "code",
   "execution_count": 8,
   "id": "92e9d2dc",
   "metadata": {},
   "outputs": [],
   "source": [
    "string_1 = \"Vishal Bhardwaj said he was convinced with Saif Ali Khan after watching him in Dil Chahta Hai\""
   ]
  },
  {
   "cell_type": "code",
   "execution_count": 9,
   "id": "85d80ea6",
   "metadata": {},
   "outputs": [],
   "source": [
    "result = find_long_words(string_1)"
   ]
  },
  {
   "cell_type": "code",
   "execution_count": 10,
   "id": "729530cd",
   "metadata": {},
   "outputs": [
    {
     "name": "stdout",
     "output_type": "stream",
     "text": [
      "Words with at least 4 characters: ['Vishal', 'Bhardwaj', 'said', 'convinced', 'with', 'Saif', 'Khan', 'after', 'watching', 'Chahta']\n"
     ]
    }
   ],
   "source": [
    "print(\"Words with at least 4 characters:\", result)"
   ]
  },
  {
   "cell_type": "code",
   "execution_count": 11,
   "id": "a43c8544",
   "metadata": {},
   "outputs": [],
   "source": [
    "def find_specific_length_words(input_string):\n",
    "    pattern = re.compile(r'\\b\\w{3,5}\\b')\n",
    "    specific_length_words = pattern.findall(input_string)\n",
    "    return specific_length_words"
   ]
  },
  {
   "cell_type": "code",
   "execution_count": 12,
   "id": "b0cd9f9e",
   "metadata": {},
   "outputs": [],
   "source": [
    "result = find_specific_length_words(string_1)"
   ]
  },
  {
   "cell_type": "code",
   "execution_count": 13,
   "id": "aca28328",
   "metadata": {},
   "outputs": [
    {
     "name": "stdout",
     "output_type": "stream",
     "text": [
      "Three, four, and five-character words: ['said', 'was', 'with', 'Saif', 'Ali', 'Khan', 'after', 'him', 'Dil', 'Hai']\n"
     ]
    }
   ],
   "source": [
    "print(\"Three, four, and five-character words:\", result)"
   ]
  },
  {
   "cell_type": "code",
   "execution_count": 14,
   "id": "95341744",
   "metadata": {},
   "outputs": [],
   "source": [
    "def remove_parentheses(strings_list):\n",
    "    pattern = re.compile (r'\\s*\\(([^)]*)\\)\\s*')\n",
    "    cleaned_strings = [pattern.sub(r'\\1', s) for s in strings_list]\n",
    "    \n",
    "    return cleaned_strings"
   ]
  },
  {
   "cell_type": "code",
   "execution_count": 15,
   "id": "dacb0f1b",
   "metadata": {},
   "outputs": [],
   "source": [
    "string_2 = [\"example (.com)\", \"hr@fliprobo (.com)\", \"github (.com)\", \"Hello (Data Science World)\", \"Data (Scientist)\"]"
   ]
  },
  {
   "cell_type": "code",
   "execution_count": 16,
   "id": "4a9689d2",
   "metadata": {},
   "outputs": [],
   "source": [
    "result = remove_parentheses(string_2)"
   ]
  },
  {
   "cell_type": "code",
   "execution_count": 17,
   "id": "df049b6c",
   "metadata": {},
   "outputs": [
    {
     "name": "stdout",
     "output_type": "stream",
     "text": [
      "example.com\n",
      "hr@fliprobo.com\n",
      "github.com\n",
      "HelloData Science World\n",
      "DataScientist\n"
     ]
    }
   ],
   "source": [
    "for cleaned_string in result:\n",
    "    print(cleaned_string)"
   ]
  },
  {
   "cell_type": "code",
   "execution_count": 18,
   "id": "11f04418",
   "metadata": {},
   "outputs": [],
   "source": [
    "def remove_parentheses(strings_list):\n",
    "    pattern = re.compile(r'\\([^)]*\\)')\n",
    "    cleaned_strings = [pattern.sub('', s) for s in strings_list]\n",
    "    \n",
    "    return cleaned_strings"
   ]
  },
  {
   "cell_type": "code",
   "execution_count": 19,
   "id": "71af40bc",
   "metadata": {},
   "outputs": [],
   "source": [
    "result = remove_parentheses(string_2)"
   ]
  },
  {
   "cell_type": "code",
   "execution_count": 20,
   "id": "31c0dacd",
   "metadata": {},
   "outputs": [
    {
     "name": "stdout",
     "output_type": "stream",
     "text": [
      "Strings without parentheses: ['example ', 'hr@fliprobo ', 'github ', 'Hello ', 'Data ']\n"
     ]
    }
   ],
   "source": [
    "print(\"Strings without parentheses:\", result)"
   ]
  },
  {
   "cell_type": "code",
   "execution_count": 21,
   "id": "4759488f",
   "metadata": {},
   "outputs": [],
   "source": [
    "String3 = \"ImportanceOfRegularExpressionsInPython\""
   ]
  },
  {
   "cell_type": "code",
   "execution_count": 22,
   "id": "48d16bfb",
   "metadata": {},
   "outputs": [],
   "source": [
    "result = re.findall(r'[A-Z][a-z]*', String3)"
   ]
  },
  {
   "cell_type": "code",
   "execution_count": 23,
   "id": "cfb2db04",
   "metadata": {},
   "outputs": [
    {
     "name": "stdout",
     "output_type": "stream",
     "text": [
      "['Importance', 'Of', 'Regular', 'Expressions', 'In', 'Python']\n"
     ]
    }
   ],
   "source": [
    "print(result)"
   ]
  },
  {
   "cell_type": "code",
   "execution_count": 24,
   "id": "7c7be2bc",
   "metadata": {},
   "outputs": [],
   "source": [
    "String4 = \"RegularExpression1IsAn2ImportantTopic3InPython\""
   ]
  },
  {
   "cell_type": "code",
   "execution_count": 25,
   "id": "b54bf10f",
   "metadata": {},
   "outputs": [],
   "source": [
    "def spaces(input_string):\n",
    "    result = re.sub(r'(?<=\\D)(?=\\d)', ' ', input_string)\n",
    "    return result"
   ]
  },
  {
   "cell_type": "code",
   "execution_count": 26,
   "id": "17d7bcdf",
   "metadata": {},
   "outputs": [],
   "source": [
    "output = spaces(String4)"
   ]
  },
  {
   "cell_type": "code",
   "execution_count": 27,
   "id": "ff418711",
   "metadata": {},
   "outputs": [
    {
     "name": "stdout",
     "output_type": "stream",
     "text": [
      "RegularExpression 1IsAn 2ImportantTopic 3InPython\n"
     ]
    }
   ],
   "source": [
    "print(output)"
   ]
  },
  {
   "cell_type": "code",
   "execution_count": 28,
   "id": "7097b55c",
   "metadata": {},
   "outputs": [],
   "source": [
    "def Q9(input_string):\n",
    "    result = re.sub(r'(?<=[A-Z\\d])(?=[A-Z])|(?<=\\D)(?=\\d)', ' ', input_string)\n",
    "    return result"
   ]
  },
  {
   "cell_type": "code",
   "execution_count": 29,
   "id": "2a7baa6d",
   "metadata": {},
   "outputs": [],
   "source": [
    "output = Q9(String4)"
   ]
  },
  {
   "cell_type": "code",
   "execution_count": 30,
   "id": "426c1c13",
   "metadata": {},
   "outputs": [
    {
     "name": "stdout",
     "output_type": "stream",
     "text": [
      "RegularExpression 1 IsAn 2 ImportantTopic 3 InPython\n"
     ]
    }
   ],
   "source": [
    "print(output)"
   ]
  },
  {
   "cell_type": "code",
   "execution_count": 36,
   "id": "7fc35407",
   "metadata": {},
   "outputs": [],
   "source": [
    "import pandas as pd"
   ]
  },
  {
   "cell_type": "code",
   "execution_count": 37,
   "id": "1b143af0",
   "metadata": {},
   "outputs": [],
   "source": [
    "Q10 = \"https://raw.githubusercontent.com/dsrscientist/DSData/master/happiness_score_dataset.csv\""
   ]
  },
  {
   "cell_type": "code",
   "execution_count": 38,
   "id": "436731f1",
   "metadata": {},
   "outputs": [],
   "source": [
    "df = pd.read_csv(Q10)"
   ]
  },
  {
   "cell_type": "code",
   "execution_count": 40,
   "id": "9ff001aa",
   "metadata": {},
   "outputs": [],
   "source": [
    "df['first_five_letters'] = df['Country'].apply(lambda x: x[:6])"
   ]
  },
  {
   "cell_type": "code",
   "execution_count": 41,
   "id": "b8c45e08",
   "metadata": {},
   "outputs": [
    {
     "name": "stdout",
     "output_type": "stream",
     "text": [
      "       Country          Region  Happiness Rank  Happiness Score  \\\n",
      "0  Switzerland  Western Europe               1            7.587   \n",
      "1      Iceland  Western Europe               2            7.561   \n",
      "2      Denmark  Western Europe               3            7.527   \n",
      "3       Norway  Western Europe               4            7.522   \n",
      "4       Canada   North America               5            7.427   \n",
      "\n",
      "   Standard Error  Economy (GDP per Capita)   Family  \\\n",
      "0         0.03411                   1.39651  1.34951   \n",
      "1         0.04884                   1.30232  1.40223   \n",
      "2         0.03328                   1.32548  1.36058   \n",
      "3         0.03880                   1.45900  1.33095   \n",
      "4         0.03553                   1.32629  1.32261   \n",
      "\n",
      "   Health (Life Expectancy)  Freedom  Trust (Government Corruption)  \\\n",
      "0                   0.94143  0.66557                        0.41978   \n",
      "1                   0.94784  0.62877                        0.14145   \n",
      "2                   0.87464  0.64938                        0.48357   \n",
      "3                   0.88521  0.66973                        0.36503   \n",
      "4                   0.90563  0.63297                        0.32957   \n",
      "\n",
      "   Generosity  Dystopia Residual first_five_letters  \n",
      "0     0.29678            2.51738             Switze  \n",
      "1     0.43630            2.70201             Icelan  \n",
      "2     0.34139            2.49204             Denmar  \n",
      "3     0.34699            2.46531             Norway  \n",
      "4     0.45811            2.45176             Canada  \n"
     ]
    }
   ],
   "source": [
    "print(df.head())"
   ]
  },
  {
   "cell_type": "code",
   "execution_count": 42,
   "id": "501619d9",
   "metadata": {},
   "outputs": [],
   "source": [
    "def matching(string):\n",
    "    pattern = r'^[a-zA-Z0-9_]+$'\n",
    "    if re.match(pattern, string):\n",
    "        print(\"Pattern matches\")\n",
    "    else:\n",
    "        print(\"Pattern does not match\")\n"
   ]
  },
  {
   "cell_type": "code",
   "execution_count": 44,
   "id": "c6a75a37",
   "metadata": {},
   "outputs": [
    {
     "name": "stdout",
     "output_type": "stream",
     "text": [
      "Pattern does not match\n",
      "Pattern matches\n"
     ]
    }
   ],
   "source": [
    "output1 = matching (string_1)\n",
    "output3 = matching (String3)"
   ]
  },
  {
   "cell_type": "code",
   "execution_count": 45,
   "id": "32639144",
   "metadata": {},
   "outputs": [],
   "source": [
    "def num_match(string):\n",
    "    text = re.compile(r\"^8\")\n",
    "    if text.match(string):\n",
    "        return True\n",
    "    else:\n",
    "        return False"
   ]
  },
  {
   "cell_type": "code",
   "execution_count": 46,
   "id": "e344817b",
   "metadata": {},
   "outputs": [
    {
     "name": "stdout",
     "output_type": "stream",
     "text": [
      "True\n",
      "False\n"
     ]
    }
   ],
   "source": [
    "print(num_match('861695069666951'))\n",
    "print(num_match('13880646990005v'))"
   ]
  },
  {
   "cell_type": "code",
   "execution_count": 47,
   "id": "e4beb772",
   "metadata": {},
   "outputs": [],
   "source": [
    "import ipaddress"
   ]
  },
  {
   "cell_type": "code",
   "execution_count": 48,
   "id": "a8372175",
   "metadata": {},
   "outputs": [],
   "source": [
    "def rem_lead_zero(ip_address):\n",
    "    pattern = re.compile(r'\\b0+(\\d+)\\b')\n",
    "    cleaned_ip = '.'.join([pattern.sub(r'\\1', octet) for octet in ip_address.split('.')])\n",
    "    \n",
    "    return cleaned_ip"
   ]
  },
  {
   "cell_type": "code",
   "execution_count": 49,
   "id": "1fc2adea",
   "metadata": {},
   "outputs": [],
   "source": [
    "ip_with_zeros = \"192.010.001.001\"\n",
    "cleaned = rem_lead_zero(ip_with_zeros)"
   ]
  },
  {
   "cell_type": "code",
   "execution_count": 50,
   "id": "29d35ca2",
   "metadata": {},
   "outputs": [
    {
     "name": "stdout",
     "output_type": "stream",
     "text": [
      "Original IP: 192.010.001.001\n",
      "Cleaned IP:  192.10.1.1\n"
     ]
    }
   ],
   "source": [
    "print(f\"Original IP: {ip_with_zeros}\")\n",
    "print(f\"Cleaned IP:  {cleaned}\")"
   ]
  },
  {
   "cell_type": "code",
   "execution_count": 51,
   "id": "2b0486e4",
   "metadata": {},
   "outputs": [],
   "source": [
    "def extract_date(text):\n",
    "    date_pattern = re.compile(r'\\b([A-Za-z]+ \\d{1,2}(st|nd|rd|th)? \\d{4})\\b')\n",
    "    match = date_pattern.search(text)\n",
    "\n",
    "    if match:\n",
    "        return match.group(1)\n",
    "    else:\n",
    "        return None"
   ]
  },
  {
   "cell_type": "code",
   "execution_count": 52,
   "id": "17d8cea4",
   "metadata": {},
   "outputs": [],
   "source": [
    "String5 = 'On August 15th 1947 that India was declared independent from British colonialism, and the reins of control were handed over to the leaders of the Country'"
   ]
  },
  {
   "cell_type": "code",
   "execution_count": 53,
   "id": "ebb5a579",
   "metadata": {},
   "outputs": [],
   "source": [
    "date_string = extract_date(String5)"
   ]
  },
  {
   "cell_type": "code",
   "execution_count": 54,
   "id": "577ca070",
   "metadata": {},
   "outputs": [
    {
     "name": "stdout",
     "output_type": "stream",
     "text": [
      "Extracted Date: August 15th 1947\n"
     ]
    }
   ],
   "source": [
    "print(\"Extracted Date:\", date_string)"
   ]
  },
  {
   "cell_type": "code",
   "execution_count": 55,
   "id": "ef2e4bdd",
   "metadata": {},
   "outputs": [],
   "source": [
    "Q15  = [ 'fox', 'dog', 'horse' ]"
   ]
  },
  {
   "cell_type": "code",
   "execution_count": 56,
   "id": "3c7d8d04",
   "metadata": {},
   "outputs": [],
   "source": [
    "String6 = 'The quick brown fox jumps over the lazy dog.'"
   ]
  },
  {
   "cell_type": "code",
   "execution_count": 58,
   "id": "d569403d",
   "metadata": {},
   "outputs": [
    {
     "name": "stdout",
     "output_type": "stream",
     "text": [
      "Searching for \"['fox', 'dog', 'horse']\" in \"The quick brown fox jumps over the lazy dog.\" ->\n",
      "Matched!\n",
      "Searching for \"['fox', 'dog', 'horse']\" in \"The quick brown fox jumps over the lazy dog.\" ->\n",
      "Matched!\n",
      "Searching for \"['fox', 'dog', 'horse']\" in \"The quick brown fox jumps over the lazy dog.\" ->\n",
      "Not Matched!\n"
     ]
    }
   ],
   "source": [
    "for pattern in Q15:\n",
    "    print('Searching for \"%s\" in \"%s\" ->' % (Q15, String6),)\n",
    "    if re.search(pattern,  String6):\n",
    "        print('Matched!')\n",
    "    else:\n",
    "        print('Not Matched!')"
   ]
  },
  {
   "cell_type": "code",
   "execution_count": 59,
   "id": "38bf667e",
   "metadata": {},
   "outputs": [],
   "source": [
    "Q16 = 'fox'"
   ]
  },
  {
   "cell_type": "code",
   "execution_count": 60,
   "id": "c098b1c9",
   "metadata": {},
   "outputs": [],
   "source": [
    "match = re.search(Q16, String6)\n",
    "s = match.start()\n",
    "e = match.end()"
   ]
  },
  {
   "cell_type": "code",
   "execution_count": 61,
   "id": "74958fb2",
   "metadata": {},
   "outputs": [
    {
     "name": "stdout",
     "output_type": "stream",
     "text": [
      "Found \"fox\" in \"The quick brown fox jumps over the lazy dog.\" from 16 to 19 \n"
     ]
    }
   ],
   "source": [
    "print('Found \"%s\" in \"%s\" from %d to %d ' % \\\n",
    "    (match.re.pattern, match.string, s, e))"
   ]
  },
  {
   "cell_type": "code",
   "execution_count": 62,
   "id": "0d5e8aa7",
   "metadata": {},
   "outputs": [],
   "source": [
    "String7 = 'Python exercises, PHP exercises, C# exercises'"
   ]
  },
  {
   "cell_type": "code",
   "execution_count": 63,
   "id": "1995a477",
   "metadata": {},
   "outputs": [],
   "source": [
    "Find = 'exercises'"
   ]
  },
  {
   "cell_type": "code",
   "execution_count": 68,
   "id": "a30c243a",
   "metadata": {},
   "outputs": [
    {
     "name": "stdout",
     "output_type": "stream",
     "text": [
      "Found \"exercises\"\n",
      "Found \"exercises\"\n",
      "Found \"exercises\"\n"
     ]
    }
   ],
   "source": [
    "for match in re.findall(Find, String7):\n",
    "    print('Found \"%s\"' % match)"
   ]
  },
  {
   "cell_type": "code",
   "execution_count": 69,
   "id": "714cef84",
   "metadata": {},
   "outputs": [],
   "source": [
    "def Q18(text, Find):\n",
    "    occurrences = 0\n",
    "    positions = []\n",
    "    index = text.find(Find)\n",
    "\n",
    "    while index != -1:\n",
    "        occurrences += 1\n",
    "        positions.append(index)\n",
    "        index = text.find(Find, index + 1)\n",
    "\n",
    "    return occurrences, positions"
   ]
  },
  {
   "cell_type": "code",
   "execution_count": 70,
   "id": "937f5ae7",
   "metadata": {},
   "outputs": [],
   "source": [
    "occurrences, found_positions = Q18(String7, Find)"
   ]
  },
  {
   "cell_type": "code",
   "execution_count": 71,
   "id": "c890af7d",
   "metadata": {},
   "outputs": [
    {
     "name": "stdout",
     "output_type": "stream",
     "text": [
      "The substring \"exercises\" occurs 3 times at the following positions:\n",
      "Position: 7\n",
      "Position: 22\n",
      "Position: 36\n"
     ]
    }
   ],
   "source": [
    "if occurrences > 0:\n",
    "    print(f'The substring \"{Find}\" occurs {occurrences} times at the following positions:')\n",
    "    for position in found_positions:\n",
    "        print(f'Position: {position}')\n",
    "else:\n",
    "    print(f'The substring \"{Find}\" is not found in the text.')"
   ]
  },
  {
   "cell_type": "code",
   "execution_count": 78,
   "id": "96a30ab2",
   "metadata": {},
   "outputs": [],
   "source": [
    "from datetime import datetime"
   ]
  },
  {
   "cell_type": "code",
   "execution_count": 79,
   "id": "352e2701",
   "metadata": {},
   "outputs": [],
   "source": [
    "date = \"1990-09-12\""
   ]
  },
  {
   "cell_type": "code",
   "execution_count": 85,
   "id": "dd4ffcc9",
   "metadata": {},
   "outputs": [],
   "source": [
    "converted_date = Q19(date)"
   ]
  },
  {
   "cell_type": "code",
   "execution_count": 86,
   "id": "e3510397",
   "metadata": {},
   "outputs": [],
   "source": [
    "def Q19(date):\n",
    "    parsed_date = datetime.strptime(date, '%Y-%m-%d')\n",
    "\n",
    "    output_date = parsed_date.strftime('%d-%m-%Y')\n",
    "\n",
    "    return output_date"
   ]
  },
  {
   "cell_type": "code",
   "execution_count": 87,
   "id": "7f6f75fd",
   "metadata": {},
   "outputs": [
    {
     "name": "stdout",
     "output_type": "stream",
     "text": [
      "12-09-1990\n"
     ]
    }
   ],
   "source": [
    "print(converted_date)"
   ]
  },
  {
   "cell_type": "code",
   "execution_count": 88,
   "id": "a9cb1c57",
   "metadata": {},
   "outputs": [],
   "source": [
    "string8 = \"01.12 0132.123 2.31875 145.8 3.01 27.25 0.25\""
   ]
  },
  {
   "cell_type": "code",
   "execution_count": 89,
   "id": "db3de6e2",
   "metadata": {},
   "outputs": [],
   "source": [
    "def Q20(input_string):\n",
    "    pattern = re.compile(r'\\b\\d+\\.\\d{1,2}\\b')\n",
    "    matches = pattern.findall(input_string)\n",
    "    return matches"
   ]
  },
  {
   "cell_type": "code",
   "execution_count": 90,
   "id": "c907acf4",
   "metadata": {},
   "outputs": [],
   "source": [
    "result = Q20(string8)"
   ]
  },
  {
   "cell_type": "code",
   "execution_count": 92,
   "id": "29fe5bef",
   "metadata": {},
   "outputs": [
    {
     "name": "stdout",
     "output_type": "stream",
     "text": [
      "Ans_20 ['01.12', '145.8', '3.01', '27.25', '0.25']\n"
     ]
    }
   ],
   "source": [
    "print(\"Ans_20\", result)"
   ]
  },
  {
   "cell_type": "code",
   "execution_count": 93,
   "id": "7455e9a7",
   "metadata": {},
   "outputs": [],
   "source": [
    "String9 = \"Rahul also talked about the chances of Rinku earning his maiden ODI cap in the series after a stellar show in the two T20I series he played where he scored 187 runs in 109 balls across six innings with a fifty.\""
   ]
  },
  {
   "cell_type": "code",
   "execution_count": 94,
   "id": "ab31c81f",
   "metadata": {},
   "outputs": [],
   "source": [
    "def Q21(input_string):\n",
    "    pattern = re.compile(r'\\b\\d+\\b')\n",
    "    matches = pattern.finditer(input_string)\n",
    "    \n",
    "    result = []\n",
    "    for match in matches:\n",
    "        number = match.group()\n",
    "        position = match.start()\n",
    "        result.append((number, position))\n",
    "\n",
    "    return result"
   ]
  },
  {
   "cell_type": "code",
   "execution_count": 95,
   "id": "bcb660f5",
   "metadata": {},
   "outputs": [],
   "source": [
    "result = Q21(String9)"
   ]
  },
  {
   "cell_type": "code",
   "execution_count": 96,
   "id": "569aeae3",
   "metadata": {},
   "outputs": [
    {
     "name": "stdout",
     "output_type": "stream",
     "text": [
      "Ans_21\n",
      "N: {number}, P: {position}\n",
      "N: {number}, P: {position}\n"
     ]
    }
   ],
   "source": [
    "print(\"Ans_21\")\n",
    "for number, position in result:\n",
    "    print(\"N: {number}, P: {position}\")"
   ]
  },
  {
   "cell_type": "code",
   "execution_count": 97,
   "id": "4d910a15",
   "metadata": {},
   "outputs": [],
   "source": [
    "String10 = 'My marks in each semester are: 947, 896, 926, 524, 734, 950, 642'"
   ]
  },
  {
   "cell_type": "code",
   "execution_count": 98,
   "id": "086b8725",
   "metadata": {},
   "outputs": [],
   "source": [
    "def Q22(input_string):\n",
    "    numeric_values = re.findall(r'\\b\\d+\\b', input_string)\n",
    "    max_numeric_value = max(map(int, numeric_values), default=None)\n",
    "\n",
    "    return max_numeric_value"
   ]
  },
  {
   "cell_type": "code",
   "execution_count": 99,
   "id": "a82d975a",
   "metadata": {},
   "outputs": [],
   "source": [
    "result = Q22(String10)"
   ]
  },
  {
   "cell_type": "code",
   "execution_count": 100,
   "id": "0ec69cef",
   "metadata": {},
   "outputs": [
    {
     "name": "stdout",
     "output_type": "stream",
     "text": [
      "Ans_22: 950\n"
     ]
    }
   ],
   "source": [
    "print(\"Ans_22:\", result)"
   ]
  },
  {
   "cell_type": "code",
   "execution_count": 113,
   "id": "669e298f",
   "metadata": {},
   "outputs": [],
   "source": [
    "String11 = \"RegularExpressionIsAnImportantTopicInPython\""
   ]
  },
  {
   "cell_type": "code",
   "execution_count": 114,
   "id": "50c14b01",
   "metadata": {},
   "outputs": [],
   "source": [
    "def Q23(input_string): \n",
    "    Capitals_words = re.findall(r'[A-Z][a-z]*', input_string)\n",
    "    for word in Capitals_words:\n",
    "        input_string = input_string.replace(word, f' {word}')\n",
    "    return input_string"
   ]
  },
  {
   "cell_type": "code",
   "execution_count": 115,
   "id": "460a2e74",
   "metadata": {},
   "outputs": [],
   "source": [
    "result = Q23(String11)"
   ]
  },
  {
   "cell_type": "code",
   "execution_count": 116,
   "id": "22f43c84",
   "metadata": {},
   "outputs": [
    {
     "name": "stdout",
     "output_type": "stream",
     "text": [
      "Ans_23:  Regular Expression Is An Important Topic In Python\n"
     ]
    }
   ],
   "source": [
    "print(\"Ans_23:\", result)"
   ]
  },
  {
   "cell_type": "code",
   "execution_count": 117,
   "id": "d9eec066",
   "metadata": {},
   "outputs": [],
   "source": [
    "def Q24(input_string):\n",
    "    pattern = re.compile(r'([A-Z][a-z]+)')\n",
    "    sequences = pattern.findall(input_string)\n",
    "    return sequences"
   ]
  },
  {
   "cell_type": "code",
   "execution_count": 118,
   "id": "6535bcb0",
   "metadata": {},
   "outputs": [],
   "source": [
    "result = Q24(String6)"
   ]
  },
  {
   "cell_type": "code",
   "execution_count": 119,
   "id": "b28e9138",
   "metadata": {},
   "outputs": [
    {
     "name": "stdout",
     "output_type": "stream",
     "text": [
      "Ans.24 ['The']\n"
     ]
    }
   ],
   "source": [
    "print(\"Ans.24\", result)"
   ]
  },
  {
   "cell_type": "code",
   "execution_count": 120,
   "id": "fcb4eb29",
   "metadata": {},
   "outputs": [],
   "source": [
    "String12 = \"Hello hello world world\""
   ]
  },
  {
   "cell_type": "code",
   "execution_count": 121,
   "id": "0dd83ee4",
   "metadata": {},
   "outputs": [],
   "source": [
    "def Q25(sentence):\n",
    "    pattern = re.compile(r'\\b(\\w+)(?:\\s+\\1)+\\b')\n",
    "    cleaned_sentence = pattern.sub(r'\\1', sentence)\n",
    "\n",
    "    return cleaned_sentence"
   ]
  },
  {
   "cell_type": "code",
   "execution_count": 123,
   "id": "4d00512f",
   "metadata": {},
   "outputs": [],
   "source": [
    "Ans_25 = Q25(String12)"
   ]
  },
  {
   "cell_type": "code",
   "execution_count": 126,
   "id": "57421882",
   "metadata": {},
   "outputs": [
    {
     "name": "stdout",
     "output_type": "stream",
     "text": [
      "Ans.25: Hello hello world\n"
     ]
    }
   ],
   "source": [
    "print(\"Ans.25:\", Ans_25)"
   ]
  },
  {
   "cell_type": "code",
   "execution_count": 127,
   "id": "2b1db325",
   "metadata": {},
   "outputs": [],
   "source": [
    "def Q26(input_string):\n",
    "    pattern = re.compile(r'\\w$')\n",
    "    return bool(pattern.search(input_string))"
   ]
  },
  {
   "cell_type": "code",
   "execution_count": 128,
   "id": "55e68d54",
   "metadata": {},
   "outputs": [],
   "source": [
    "result = Q26(String10)"
   ]
  },
  {
   "cell_type": "code",
   "execution_count": 129,
   "id": "bfc7e96e",
   "metadata": {},
   "outputs": [
    {
     "name": "stdout",
     "output_type": "stream",
     "text": [
      "The string \"My marks in each semester are: 947, 896, 926, 524, 734, 950, 642\" ends with an alphanumeric character.\n"
     ]
    }
   ],
   "source": [
    "if result:\n",
    "    print(f'The string \"{String10}\" ends with an alphanumeric character.')\n",
    "else:\n",
    "    print(f'The string \"{String10}\" does not end with an alphanumeric character.')"
   ]
  },
  {
   "cell_type": "code",
   "execution_count": 131,
   "id": "95f332a3",
   "metadata": {},
   "outputs": [],
   "source": [
    "def Q27(input_text):\n",
    "    pattern = re.compile(r'#\\w+')\n",
    "    hashtags = pattern.findall(input_text)\n",
    "    return hashtags"
   ]
  },
  {
   "cell_type": "code",
   "execution_count": 132,
   "id": "8500cd64",
   "metadata": {},
   "outputs": [],
   "source": [
    "String13 = \"\"\"RT @kapil_kausik: #Doltiwal I mean #xyzabc is \"hurt\" by #Demonetization as the same has rendered USELESS <ed><U+00A0><U+00BD><ed><U+00B1><U+0089> \"acquired funds\" No wo\"\"\""
   ]
  },
  {
   "cell_type": "code",
   "execution_count": 133,
   "id": "827010f0",
   "metadata": {},
   "outputs": [],
   "source": [
    "result = Q27(String13)"
   ]
  },
  {
   "cell_type": "code",
   "execution_count": 134,
   "id": "0a06f586",
   "metadata": {},
   "outputs": [
    {
     "name": "stdout",
     "output_type": "stream",
     "text": [
      "Ans_27: ['#Doltiwal', '#xyzabc', '#Demonetization']\n"
     ]
    }
   ],
   "source": [
    "print(\"Ans_27:\", result)"
   ]
  },
  {
   "cell_type": "code",
   "execution_count": 135,
   "id": "4e1eed3a",
   "metadata": {},
   "outputs": [],
   "source": [
    "String14 = \"@Jags123456 Bharat band on 28??<ed><U+00A0><U+00BD><ed><U+00B8><U+0082>Those who  are protesting #demonetization  are all different party leaders\""
   ]
  },
  {
   "cell_type": "code",
   "execution_count": 136,
   "id": "746c5eda",
   "metadata": {},
   "outputs": [],
   "source": [
    "def Q28(input_text):\n",
    "    pattern = re.compile(r'<U\\+\\w+>')\n",
    "    cleaned_text = pattern.sub('', input_text)\n",
    "    return cleaned_text"
   ]
  },
  {
   "cell_type": "code",
   "execution_count": 137,
   "id": "f2d3ff2c",
   "metadata": {},
   "outputs": [],
   "source": [
    "result = Q28(String14)"
   ]
  },
  {
   "cell_type": "code",
   "execution_count": 138,
   "id": "a51e0d56",
   "metadata": {},
   "outputs": [
    {
     "name": "stdout",
     "output_type": "stream",
     "text": [
      "Ans.28: @Jags123456 Bharat band on 28??<ed><ed>Those who  are protesting #demonetization  are all different party leaders\n"
     ]
    }
   ],
   "source": [
    "print(\"Ans.28:\", result)"
   ]
  },
  {
   "cell_type": "code",
   "execution_count": 139,
   "id": "c48ab65a",
   "metadata": {},
   "outputs": [],
   "source": [
    "String15 = \"Ron was born on 12-09-1992 and he was admitted to school 15-12-1999.\""
   ]
  },
  {
   "cell_type": "code",
   "execution_count": 140,
   "id": "d70559c4",
   "metadata": {},
   "outputs": [],
   "source": [
    "def Q29(input_string):\n",
    "    pattern = re.compile(r'\\b\\d{2}-\\d{2}-\\d{4}\\b')\n",
    "    dates = pattern.findall(input_string)\n",
    "\n",
    "    return dates"
   ]
  },
  {
   "cell_type": "code",
   "execution_count": 141,
   "id": "0b25d9d2",
   "metadata": {},
   "outputs": [],
   "source": [
    "result = Q29(String15)"
   ]
  },
  {
   "cell_type": "code",
   "execution_count": 142,
   "id": "f463a79e",
   "metadata": {},
   "outputs": [
    {
     "name": "stdout",
     "output_type": "stream",
     "text": [
      "Ans_29: ['12-09-1992', '15-12-1999']\n"
     ]
    }
   ],
   "source": [
    "print(\"Ans_29:\", result)"
   ]
  },
  {
   "cell_type": "code",
   "execution_count": 143,
   "id": "217ac63e",
   "metadata": {},
   "outputs": [],
   "source": [
    "String16 = \"The following example creates an ArrayList with a capacity of 50 elements. 4 elements are then added to the ArrayList and the ArrayList is trimmed accordingly.\""
   ]
  },
  {
   "cell_type": "code",
   "execution_count": 144,
   "id": "cab5d1e5",
   "metadata": {},
   "outputs": [],
   "source": [
    "def Q30(input_string):\n",
    "    pattern = re.compile(r'\\b\\w{2,4}\\b')\n",
    "    cleaned_string = pattern.sub('', input_string)\n",
    "    return cleaned_string"
   ]
  },
  {
   "cell_type": "code",
   "execution_count": 145,
   "id": "382c01f7",
   "metadata": {},
   "outputs": [],
   "source": [
    "result = Q30(String16)"
   ]
  },
  {
   "cell_type": "code",
   "execution_count": 146,
   "id": "fe215bc2",
   "metadata": {},
   "outputs": [
    {
     "name": "stdout",
     "output_type": "stream",
     "text": [
      "Ans_30:  following example creates  ArrayList  a capacity   elements. 4 elements   added   ArrayList   ArrayList  trimmed accordingly.\n"
     ]
    }
   ],
   "source": [
    "print(\"Ans_30:\", result)"
   ]
  },
  {
   "cell_type": "code",
   "execution_count": null,
   "id": "231f187b",
   "metadata": {},
   "outputs": [],
   "source": []
  }
 ],
 "metadata": {
  "kernelspec": {
   "display_name": "Python 3 (ipykernel)",
   "language": "python",
   "name": "python3"
  },
  "language_info": {
   "codemirror_mode": {
    "name": "ipython",
    "version": 3
   },
   "file_extension": ".py",
   "mimetype": "text/x-python",
   "name": "python",
   "nbconvert_exporter": "python",
   "pygments_lexer": "ipython3",
   "version": "3.11.5"
  }
 },
 "nbformat": 4,
 "nbformat_minor": 5
}
